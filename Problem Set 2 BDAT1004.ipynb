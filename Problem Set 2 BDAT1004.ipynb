{
 "cells": [
  {
   "cell_type": "markdown",
   "id": "dd371f34",
   "metadata": {},
   "source": [
    "# Question 1\n",
    "What value is displayed when the last expression (a) is evaluated? \n",
    "Explain your answer by indicating what happens in every executed statement.\n"
   ]
  },
  {
   "cell_type": "code",
   "execution_count": 1,
   "id": "d9e836a1",
   "metadata": {},
   "outputs": [
    {
     "name": "stdout",
     "output_type": "stream",
     "text": [
      "The Last Value of a -->> 6\n"
     ]
    }
   ],
   "source": [
    "a = 0\n",
    "# The initial value of 'a' is zero\n",
    "\n",
    "def b():\n",
    "    # Define a function named 'b' without any parameters\n",
    "    \n",
    "    global a\n",
    "    # Declare 'a' as a global variable to access and modify its value\n",
    "    \n",
    "    a = c(a)\n",
    "    # Call the function 'c' with the current value of 'a' as an argument and update 'a' with the returned value\n",
    "\n",
    "def c(a):\n",
    "    # Define a function named 'c' with a parameter 'a'\n",
    "    \n",
    "    return a + 2\n",
    "    # Return the value of 'a' incremented by 2\n",
    "\n",
    "b()  # First function call: 'a' is 0, so calling c(0) returns 0 + 2 = 2, and 'a' is updated to 2\n",
    "b()  # Second function call: 'a' is now 2, so calling c(2) returns 2 + 2 = 4, and 'a' is updated to 4\n",
    "b()  # Third function call: 'a' is now 4, so calling c(4) returns 4 + 2 = 6, and 'a' is updated to 6\n",
    "\n",
    "print(f\"The Last Value of a -->> {a}\")\n",
    "# After the function calls, the final value of 'a' is printed, which is 6.\n"
   ]
  },
  {
   "cell_type": "markdown",
   "id": "00a2bf4d",
   "metadata": {},
   "source": [
    "# Question 2\n",
    "Function fileLength(), given to you, takes the name of a file as input and returns \n",
    "the length of the file\n",
    "As shown above, if the file cannot be found by the interpreter or if it cannot be read \n",
    "as a text file, an exception will be raised. Modify function fileLength() so that a \n",
    "friendly message is printed instead"
   ]
  },
  {
   "cell_type": "code",
   "execution_count": 18,
   "id": "9b748e21",
   "metadata": {},
   "outputs": [],
   "source": [
    "def file_length(file):\n",
    "    try:\n",
    "        with open(file) as reader:\n",
    "            content = reader.read()\n",
    "            print(f\"The length of file contents is: {len(content)}\")\n",
    "    except FileNotFoundError:\n",
    "        print(f\"Sorry!!..... File '{file}' Not Found' \\nPlease Check The File Name or File Path\")\n",
    "     "
   ]
  },
  {
   "cell_type": "code",
   "execution_count": 19,
   "id": "d1c75d5c",
   "metadata": {},
   "outputs": [
    {
     "name": "stdout",
     "output_type": "stream",
     "text": [
      "The length of file contents is: 5346\n"
     ]
    }
   ],
   "source": [
    "file_length(r\"C:\\Users\\navne\\OneDrive\\Desktop\\word.txt\")  # Output: Length of the file contents"
   ]
  },
  {
   "cell_type": "code",
   "execution_count": 20,
   "id": "c293cebe",
   "metadata": {},
   "outputs": [
    {
     "name": "stdout",
     "output_type": "stream",
     "text": [
      "Sorry!!..... File 'C:\\Users\\navne\\OneDrive\\Desktop\\Navneet.txt' Not Found' \n",
      "Please Check The File Name or File Path\n"
     ]
    }
   ],
   "source": [
    "file_length(r\"C:\\Users\\navne\\OneDrive\\Desktop\\Navneet.txt\")  # Output: Length of the file contents\n"
   ]
  },
  {
   "cell_type": "markdown",
   "id": "f8ef7fd1",
   "metadata": {},
   "source": [
    "# Question 3\n",
    "Can you define a class called Marsupial? Additionally, can you create a subclass of Marsupial called Kangaroo that inherits all the attributes of Marsupial and incorporates the following features:\n",
    "\n",
    "a. Enhances the __init__ constructor of Marsupial to accept the Kangaroo object's coordinates x and y as input.\n",
    "\n",
    "b. Implements a jump method in the Kangaroo class that takes numerical values dx and dy as input. This method should enable the kangaroo to move dx units along the x-axis and dy units along the y-axis.\n",
    "\n",
    "c. Overrides the __str__ operator in the Kangaroo class to display the following output when printing a Kangaroo object:"
   ]
  },
  {
   "cell_type": "code",
   "execution_count": 1,
   "id": "e628eaae",
   "metadata": {},
   "outputs": [],
   "source": [
    "class Marsupial:\n",
    "    def __init__(SELF):\n",
    "        # Initialize an empty list to represent the pouch of the Marsupial\n",
    "        SELF.pouch = []\n",
    "\n",
    "    def put_in_pouch(SELF, object):\n",
    "        # Add an object to the pouch list\n",
    "        SELF.pouch.append(object)\n",
    "\n",
    "    def pouch_contents(SELF):\n",
    "        # Get and return the contents of the pouch list\n",
    "        return SELF.pouch\n",
    "\n",
    "\n",
    "class Kangaroo(Marsupial):\n",
    "    def __init__(SELF, X, Y):\n",
    "        # Initialize a Kangaroo object with the given coordinates (x, y)\n",
    "        super().__init__()\n",
    "        SELF.X = X\n",
    "        SELF.Y = Y\n",
    "\n",
    "    def jump(SELF, dx, dy):\n",
    "        # Update the Kangaroo's coordinates by the specified values of dx and dy\n",
    "        SELF.X += dx\n",
    "        SELF.Y += dy\n",
    "\n",
    "    def __str__(SELF):\n",
    "        # Return a string representation of the Kangaroo object with its coordinates\n",
    "        return f\"I am a Kangaroo located at coordinates ({SELF.X}, {SELF.Y})\"\n",
    "\n",
    "\n",
    "\n",
    "\n"
   ]
  },
  {
   "cell_type": "code",
   "execution_count": 2,
   "id": "ffe94094",
   "metadata": {},
   "outputs": [
    {
     "name": "stdout",
     "output_type": "stream",
     "text": [
      "['doll', 'firetruck', 'kitten']\n",
      "I am a Kangaroo located at coordinates (0, 0)\n",
      "['doll', 'firetruck', 'kitten']\n",
      "I am a Kangaroo located at coordinates (3, 0)\n"
     ]
    }
   ],
   "source": [
    "MARSUPIAL = Marsupial()\n",
    "MARSUPIAL.put_in_pouch('doll')  # Add 'doll' to the pouch\n",
    "MARSUPIAL.put_in_pouch('firetruck')  # Add 'firetruck' to the pouch\n",
    "MARSUPIAL.put_in_pouch('kitten')  # Add 'kitten' to the pouch\n",
    "print(MARSUPIAL.pouch_contents())  # Print the contents of the pouch\n",
    "\n",
    "KANGAROO = Kangaroo(0, 0)  # Create a Kangaroo object at coordinates (0, 0)\n",
    "print(KANGAROO)  # Print the string representation of the Kangaroo object\n",
    "KANGAROO.put_in_pouch('doll')  # Add 'doll' to the Kangaroo's pouch\n",
    "KANGAROO.put_in_pouch('firetruck')  # Add 'firetruck' to the Kangaroo's pouch\n",
    "KANGAROO.put_in_pouch('kitten')  # Add 'kitten' to the Kangaroo's pouch\n",
    "print(KANGAROO.pouch_contents())  # Print the contents of the Kangaroo's pouch\n",
    "KANGAROO.jump(1, 0)  # Move the Kangaroo by 1 unit along the x-axis\n",
    "KANGAROO.jump(1, 0)  # Move the Kangaroo by 1 unit along the x-axis\n",
    "KANGAROO.jump(1, 0)  # Move the Kangaroo by 1 unit along the x-axis\n",
    "print(KANGAROO)  # Print the string representation of the Kangaroo object"
   ]
  },
  {
   "cell_type": "markdown",
   "id": "43dc3e5c",
   "metadata": {},
   "source": [
    "# Question 4\n",
    "Write function collatz() that takes a positive integer x as input and prints the \n",
    "Collatz sequence starting at x. A Collatz sequence is obtained by repeatedly applying \n",
    "this rule to the previous number x in the sequence:\n",
    "x = {\n",
    "𝑥/2 𝑖𝑓 𝑥 𝑖𝑠 𝑒𝑣𝑒𝑛3𝑥\n",
    "+1 𝑖𝑓 𝑥 𝑖𝑠 𝑜𝑑𝑑\n",
    "Your function should stop when the sequence gets to number 1. Your \n",
    "implementation must be recursive, without any loops.\n"
   ]
  },
  {
   "cell_type": "code",
   "execution_count": 5,
   "id": "9f8826d0",
   "metadata": {},
   "outputs": [],
   "source": [
    "def collatz(x):\n",
    "    # Print the input\n",
    "    print(x)\n",
    "\n",
    "    #  When value of x reaches 1, stop the recursion\n",
    "    if x == 1:\n",
    "        return\n",
    "\n",
    "    # Recursive case: If x is an even number, it is divided by 2\n",
    "    if x % 2 == 0:\n",
    "        collatz(x // 2)\n",
    "    # however, if x is an odd number, it is multiplyed  by 3 and 1 is added \n",
    "    else:\n",
    "        collatz(3 * x + 1)\n"
   ]
  },
  {
   "cell_type": "code",
   "execution_count": 6,
   "id": "9a3c3312",
   "metadata": {},
   "outputs": [
    {
     "name": "stdout",
     "output_type": "stream",
     "text": [
      "1\n"
     ]
    }
   ],
   "source": [
    "# Call the collatz function with the initial value of 1\n",
    "collatz(1)"
   ]
  },
  {
   "cell_type": "code",
   "execution_count": 7,
   "id": "904cd6b4",
   "metadata": {},
   "outputs": [
    {
     "name": "stdout",
     "output_type": "stream",
     "text": [
      "10\n",
      "5\n",
      "16\n",
      "8\n",
      "4\n",
      "2\n",
      "1\n"
     ]
    }
   ],
   "source": [
    "# Call the collatz function with the initial value of 10\n",
    "collatz(10)"
   ]
  },
  {
   "cell_type": "markdown",
   "id": "d655d46b",
   "metadata": {},
   "source": [
    "# Question 5\n",
    "Write a recursive method binary() that takes a non-negative \n",
    "integer n and prints the binary representation of integer n.\n"
   ]
  },
  {
   "cell_type": "code",
   "execution_count": 40,
   "id": "63d8d3a7",
   "metadata": {},
   "outputs": [],
   "source": [
    "#This function converts a regular number (decimal) into binary format (using only 0s and 1s)and shows the binary representation.\n",
    "#It takes a whole number as input and doesn't give any output as a result.\n",
    "\n",
    "def Binary_Representation(number):\n",
    "    if number <= 1:\n",
    "        print(number, end='')  # Print the current digit\n",
    "    else:\n",
    "        Binary_Representation(number // 2)  # Converting the quotient to binary using recursion\n",
    "        print(number % 2, end='')  # Printing out the remainder as a binary digit\n",
    "\n",
    "\n"
   ]
  },
  {
   "cell_type": "code",
   "execution_count": 41,
   "id": "da87977e",
   "metadata": {},
   "outputs": [
    {
     "name": "stdout",
     "output_type": "stream",
     "text": [
      "0"
     ]
    }
   ],
   "source": [
    "Binary_Representation(0)"
   ]
  },
  {
   "cell_type": "code",
   "execution_count": 42,
   "id": "3f2e84ff",
   "metadata": {},
   "outputs": [
    {
     "name": "stdout",
     "output_type": "stream",
     "text": [
      "1"
     ]
    }
   ],
   "source": [
    "Binary_Representation(1)"
   ]
  },
  {
   "cell_type": "code",
   "execution_count": 43,
   "id": "206d2cc5",
   "metadata": {},
   "outputs": [
    {
     "name": "stdout",
     "output_type": "stream",
     "text": [
      "11"
     ]
    }
   ],
   "source": [
    "Binary_Representation(3)"
   ]
  },
  {
   "cell_type": "code",
   "execution_count": 39,
   "id": "cb199767",
   "metadata": {},
   "outputs": [
    {
     "name": "stdout",
     "output_type": "stream",
     "text": [
      "1001"
     ]
    }
   ],
   "source": [
    "Binary_Representation(9)"
   ]
  },
  {
   "cell_type": "markdown",
   "id": "63f8a30d",
   "metadata": {},
   "source": [
    "# Question 6\n",
    "Implement a class named HeadingParser that can be used to parse an HTML \n",
    "document, and retrieve and print all the headings in the document. You should \n",
    "implement your class as a subclass of HTMLParser, defined in Standard Library \n",
    "module html.parser. When fed a string containing HTML code, your class should \n",
    "print the headings, one per line and in the order in which they appear in the \n",
    "document.Each heading should be indented asfollows: an h1 heading should have\n",
    "indentation 0, and h2 heading should have indentation 1, etc. Test your \n",
    "implementation using w3c.html."
   ]
  },
  {
   "cell_type": "code",
   "execution_count": 46,
   "id": "476157dd",
   "metadata": {},
   "outputs": [
    {
     "name": "stdout",
     "output_type": "stream",
     "text": [
      "Change_me\n",
      "W3C Mission\n",
      "Principles\n"
     ]
    }
   ],
   "source": [
    "from html.parser import HTMLParser\n",
    "\n",
    "\n",
    "class HeadingParser(HTMLParser):\n",
    "    def __init__(self):\n",
    "        super().__init__()\n",
    "        self.current_indentation = 0  # Initialize the indentation level for headings\n",
    "        self.headings_list = []  # Prepare a list to store extracted headings\n",
    "\n",
    "    def start_tag(self, html_tag, attributes):\n",
    "        if html_tag.startswith('h'):  # If the tag represents a heading element (starts with 'h')\n",
    "            try:\n",
    "                self.current_indentation = int(html_tag[1:]) - 1  # Extract the indentation level from the tag\n",
    "            except ValueError:\n",
    "                self.current_indentation = 0  # Set default indentation level if tag format is invalid\n",
    "\n",
    "    def handle_data(self, data):\n",
    "        heading_text = ' ' * self.current_indentation + data.strip()  # Format heading text with proper indentation\n",
    "        if heading_text:  # If heading text is not empty\n",
    "            self.headings_list.append(heading_text)  # Add heading to the list of extracted headings\n",
    "\n",
    "    def print_headings(self):\n",
    "        for heading in self.headings_list:  # Iterate over the list of extracted headings\n",
    "            print(heading)  # Print each extracted heading\n",
    "\n",
    "\n",
    "with open('w3c.html', 'r') as html_file:  # Open the HTML file in read mode\n",
    "    file_content = html_file.read()  # Read the file content into a string\n",
    "\n",
    "parse_heading = HeadingParser()  # Create an instance of the HeadingParser class\n",
    "\n",
    "parse_heading.feed(file_content)  # Parse the HTML content using the parser instance\n",
    "\n",
    "parse_heading.print_headings()  # Display the extracted headings\n"
   ]
  },
  {
   "cell_type": "markdown",
   "id": "4d11e68d",
   "metadata": {},
   "source": [
    "# Question 7\n",
    "Implement recursive function webdir() that takes as input: a URL (as a string) and \n",
    "non-negative integers depth and indent. Your function should visit every web \n",
    "page reachable from the starting URL web page in depth clicks or less, and print \n",
    "each web page's URL. As shown below, indentation, specified by indent, should \n",
    "be used to indicate the depth of a URL."
   ]
  },
  {
   "cell_type": "code",
   "execution_count": 47,
   "id": "1ab071c6",
   "metadata": {},
   "outputs": [],
   "source": [
    "from urllib import request \n",
    "# Importing the 'request' module from the 'urllib' package\n",
    "from urllib.parse import urljoin \n",
    "# Importing the 'urljoin' function from the 'urllib.parse' module\n",
    "from html.parser import HTMLParser \n",
    "# Importing the 'HTMLParser' class from the 'html.parser' module\n",
    "\n",
    "\n",
    "class URLParser(HTMLParser):\n",
    "    def __init__(self):\n",
    "        super().__init__()\n",
    "        self.urls = []\n",
    "\n",
    "    def handle_starttag(self, tag, attrs):\n",
    "        if tag == 'a':  # If the start tag is an anchor tag\n",
    "            for attr in attrs:  # Iterate over the attributes of the tag\n",
    "                if attr[0] == 'href':  # If the attribute is 'href'\n",
    "                    self.urls.append(attr[1])  # Add the URL value to the 'urls' list\n",
    "\n",
    "\n",
    "def web_directory(start_url, depth):\n",
    "    visited = set()  # Initialize an empty set to keep track of visited URLs\n",
    "    parse_and_print(start_url, depth, 0, visited)  # Call the helper function to parse and print URLs\n",
    "\n",
    "\n",
    "def parse_and_print(url, depth, indent, visited):\n",
    "    if depth < 0 or url in visited:  # If the depth is less than zero or the URL has been visited before, return\n",
    "        return\n",
    "    visited.add(url)  # Add the URL to the set of visited URLs\n",
    "    print(' ' * indent + url)  # Print the URL with appropriate indentation\n",
    "    try:\n",
    "        response = request.urlopen(url)  # Open the URL\n",
    "        content = response.read().decode('utf-8')  # Read and decode the content of the URL\n",
    "        parser = URLParser()  # Create an instance of the 'URLParser' class\n",
    "        parser.feed(content)  # Feed the content to the parser to extract URLs\n",
    "        for child_url in parser.urls:  # Iterate over the extracted child URLs\n",
    "            full_url = urljoin(url, child_url)  # Create the full URL by joining the child URL with the base URL\n",
    "            parse_and_print(full_url, depth - 1, indent + 4, visited)  # Recursively call the function for the child URL\n",
    "    except Exception as e:\n",
    "        print(f'Error in accessing The Input URL: {url}')  # Print an error message if there's an exception\n",
    "        print(f'Error Code: {str(e)}')\n",
    "\n",
    "\n",
    "\n",
    "\n"
   ]
  },
  {
   "cell_type": "code",
   "execution_count": 9,
   "id": "e85e846b",
   "metadata": {},
   "outputs": [
    {
     "name": "stdout",
     "output_type": "stream",
     "text": [
      "https://tv.apple.com/ca/\n",
      "    https://tv.apple.com/\n",
      "        https://tv.apple.com/us/channel/tvs.sbd.7000\n",
      "        https://tv.apple.com/search\n",
      "        https://tv.apple.com/us/show/silo/umc.cmc.3yksgc857px0k0rqe5zd4jice?ctx_brand=tvs.sbd.4000\n",
      "        https://tv.apple.com/us/show/hijack/umc.cmc.1dg08zn0g3zx52hs8npoj5qe3?ctx_brand=tvs.sbd.4000\n",
      "        https://tv.apple.com/us/show/invasion/umc.cmc.70b7z97fv7azfzn5baqnj88p6?ctx_brand=tvs.sbd.4000\n",
      "        https://tv.apple.com/us/show/the-morning-show/umc.cmc.25tn3v8ku4b39tr6ccgb8nl6m?ctx_brand=tvs.sbd.4000\n",
      "        https://tv.apple.com/us/show/platonic/umc.cmc.y7bc18x7co813l8i2tlsyb4l?ctx_brand=tvs.sbd.4000\n",
      "        https://tv.apple.com/us/show/the-crowded-room/umc.cmc.495pmjg441gg3j70j3x2yufx9?ctx_brand=tvs.sbd.4000\n",
      "        https://tv.apple.com/us/show/swagger/umc.cmc.63e208601mwndrxpmguc5stbo?ctx_brand=tvs.sbd.4000\n",
      "        https://tv.apple.com/us/show/foundation/umc.cmc.5983fipzqbicvrve6jdfep4x3?ctx_brand=tvs.sbd.4000\n",
      "        https://tv.apple.com/us/show/ted-lasso/umc.cmc.vtoh0mn0xn7t3c643xqonfzy?ctx_brand=tvs.sbd.4000\n",
      "        https://tv.apple.com/us/movie/the-beanie-bubble/umc.cmc.4byzgw44377yxyjsl85rhn8vq?ctx_brand=tvs.sbd.4000\n",
      "        https://tv.apple.com/us/show/carpool-karaoke-the-series/umc.cmc.2wyy7chw6bmy46fekqlqq1ulb?ctx_brand=tvs.sbd.4000\n",
      "        https://tv.apple.com/us/show/the-snoopy-show/umc.cmc.5iswprrvjjw6ab020a17x4ca3?ctx_brand=tvs.sbd.4000\n",
      "        https://tv.apple.com/us/show/prehistoric-planet/umc.cmc.4lh4bmztauvkooqz400akxav?ctx_brand=tvs.sbd.4000\n",
      "        https://tv.apple.com/us/show/the-last-thing-he-told-me/umc.cmc.5dkcy23fuhcdhw1zcmqn10rc5?ctx_brand=tvs.sbd.4000\n",
      "        https://tv.apple.com/us/show/ted-lasso/umc.cmc.vtoh0mn0xn7t3c643xqonfzy\n",
      "        https://tv.apple.com/us/show/silo/umc.cmc.3yksgc857px0k0rqe5zd4jice\n",
      "        https://tv.apple.com/us/show/hijack/umc.cmc.1dg08zn0g3zx52hs8npoj5qe3\n",
      "        https://tv.apple.com/us/show/the-crowded-room/umc.cmc.495pmjg441gg3j70j3x2yufx9\n",
      "        https://tv.apple.com/us/show/platonic/umc.cmc.y7bc18x7co813l8i2tlsyb4l\n",
      "        https://tv.apple.com/us/show/high-desert/umc.cmc.1c4fnxk415p7l3eumcqholxn8?ctx_brand=tvs.sbd.4000\n",
      "        https://tv.apple.com/us/show/shrinking/umc.cmc.apzybj6eqf6pzccd97kev7bs?ctx_brand=tvs.sbd.4000\n",
      "        https://tv.apple.com/us/show/the-big-door-prize/umc.cmc.2rjxcljdjz4h47vjdxnytcn23?ctx_brand=tvs.sbd.4000\n",
      "        https://tv.apple.com/us/show/drops-of-god/umc.cmc.497ttx33nudgzywis3i2bnvuk?ctx_brand=tvs.sbd.4000\n",
      "        https://tv.apple.com/us/movie/ghosted/umc.cmc.6nodv9rf3ltfk2ar3pfc8hced\n",
      "        https://tv.apple.com/us/movie/luck/umc.cmc.5w6fq1u39v7ozsdv3jkx0nrfs\n",
      "        https://tv.apple.com/us/movie/greyhound/umc.cmc.o5z5ztufuu3uv8lx7m0jcega\n",
      "        https://tv.apple.com/us/movie/still-a-michael-j-fox-movie/umc.cmc.njewt06q05vqbgp6w42pqb0l\n",
      "        https://tv.apple.com/us/movie/300/umc.cmc.5vjx5opa0msewnaidhpn7qk85\n",
      "        https://tv.apple.com/us/show/lovely-little-farm/umc.cmc.iajaormpogjbe142ssfirdys?ctx_brand=tvs.sbd.4000\n",
      "        https://tv.apple.com/us/room/included-with-apple-tv/edt.item.63615807-8e26-454f-8b52-653004073511?ctx_brand=tvs.sbd.4000\n",
      "        https://tv.apple.com/us/movie/master-and-commander-the-far-side-of-the-world/umc.cmc.2nmvx85jvka8bkq435m65obfz?ctx_brand=tvs.sbd.4000\n",
      "        https://tv.apple.com/us/movie/troy/umc.cmc.7bm2k5rpbstbpoqknatgrp9ct?ctx_brand=tvs.sbd.4000\n",
      "        https://tv.apple.com/us/movie/kingdom-of-heaven/umc.cmc.r0pno8wvk2wzl578c1w207bv?ctx_brand=tvs.sbd.4000\n",
      "        https://tv.apple.com/us/movie/robin-hood-prince-of-thieves/umc.cmc.2aej2dqspqo3u6yzj7iijy1jn?ctx_brand=tvs.sbd.4000\n",
      "        https://tv.apple.com/us/room/coming-to-apple-tv/edt.item.62e4314e-8707-4e17-9b77-cdb29787ba94?ctx_brand=tvs.sbd.4000\n",
      "        https://tv.apple.com/us/show/duck--goose/umc.cmc.qayvbuimq7lxab6y2cs9tbcj?ctx_brand=tvs.sbd.4000\n",
      "        https://tv.apple.com/us/show/the-afterparty/umc.cmc.5wg8cnigwrkfzbdruaufzb6b0?ctx_brand=tvs.sbd.4000\n",
      "        https://tv.apple.com/us/movie/stephen-curry-underrated/umc.cmc.23v0wxaiwz60bjy1w4vg7npun?ctx_brand=tvs.sbd.4000\n",
      "        https://tv.apple.com/us/room/feature-films/edt.item.6454f7d8-98d5-4c09-95a6-b4606de32cc2?ctx_brand=tvs.sbd.4000\n",
      "        https://tv.apple.com/us/room/nonfiction-films--series/edt.item.645ac94d-2a19-439b-8a72-c8588eb16067?ctx_brand=tvs.sbd.4000\n",
      "        https://tv.apple.com/us/room/kids--family/edt.item.6126cd40-38d1-4e11-8211-3f41619392df?ctx_brand=tvs.sbd.4000\n",
      "        https://tv.apple.com/us/room/drama-series/edt.item.6452b08d-74b7-469c-8398-16932e421e67?ctx_brand=tvs.sbd.4000\n",
      "        https://tv.apple.com/us/room/comedy-series/edt.item.6452ad5e-06aa-4fcf-9411-ea551f0bf88a?ctx_brand=tvs.sbd.4000\n",
      "        https://support.apple.com/guide/tvplus/welcome/web\n",
      "        https://www.apple.com\n",
      "        https://www.apple.com/legal/internet-services/\n",
      "        https://www.apple.com/legal/privacy/data/en/apple-tv-app/\n",
      "        https://www.apple.com/privacy/use-of-cookies/\n",
      "        https://support.apple.com/tv\n",
      "    https://tv.apple.com/ca/channel/tvs.sbd.7000\n",
      "        https://tv.apple.com/ca/sporting-event/orlando-city-vs-toronto-fc/umc.cse.6jasti4n1k0hfroy7e1u0ke13?ctx_brand=tvs.sbd.7000\n",
      "        https://tv.apple.com/ca/sporting-event/inter-miami-cf-vs-columbus-crew/umc.cse.7ali9kfti0socwnef44j3v9yp?ctx_brand=tvs.sbd.7000\n",
      "        https://tv.apple.com/ca/sporting-event/fc-dallas-vs-dc-united/umc.cse.6pb9kkbf6dix58fzzdxphizdu?ctx_brand=tvs.sbd.7000\n",
      "        https://tv.apple.com/ca/sporting-event/colorado-rapids-vs-portland-timbers/umc.cse.2fbvb4qfqxgmzbllogrwbmy25?ctx_brand=tvs.sbd.7000\n",
      "        https://tv.apple.com/ca/sporting-event/la-galaxy-vs-los-angeles-football-club/umc.cse.632l0z9prixgvx158wf2au0w4?ctx_brand=tvs.sbd.7000\n",
      "        https://tv.apple.com/ca/sporting-event/new-york-city-football-club-vs-charlotte-fc/umc.cse.46ewl4sibtmmo75oid1fp5sk9?ctx_brand=tvs.sbd.7000\n",
      "        https://tv.apple.com/ca/sporting-event/mls-360/umc.cse.jmpsgqjqin3m1z1epvtb74ip?ctx_brand=tvs.sbd.7000\n",
      "        https://tv.apple.com/ca/room/cf-montreal/uts.room.umc.cst.2apzse1smd6k4zf714oywbuod\n",
      "        https://tv.apple.com/ca/room/toronto-fc/uts.room.umc.cst.47il3szeqh00xtuepkdlxmc\n",
      "        https://tv.apple.com/ca/room/atlanta-united/uts.room.umc.cst.3ykg5vxse5z5ow87nssp6oojd\n",
      "        https://tv.apple.com/ca/room/charlotte-fc/uts.room.umc.cst.2j10c80n0os1d2h7sr598s6w1\n",
      "        https://tv.apple.com/ca/room/chicago-fire-fc/uts.room.umc.cst.4rp5b6sqqdq45u43dma50qlc6\n",
      "        https://tv.apple.com/ca/room/vancouver-whitecaps-fc/uts.room.umc.cst.15c11taipmwzsqxnkokxnxhdr\n",
      "        https://tv.apple.com/ca/room/austin-fc/uts.room.umc.cst.z85vdu9iemoj6xed1kla05xo\n",
      "        https://tv.apple.com/ca/room/colorado-rapids/uts.room.umc.cst.3pt5pcmihr128vy0tc4ktxo9m\n",
      "        https://tv.apple.com/ca/room/fc-dallas/uts.room.umc.cst.5o0zsc41gl10rvafh3anhqicp\n",
      "        https://tv.apple.com/ca/room/houston-dynamo-fc/uts.room.umc.cst.1ezmelgoxyocte9j0w8pidblh\n",
      "        https://tv.apple.com/ca/sporting-event/columbus-crew-vs-new-york-city-football-club/umc.cse.2lfvh4d9sfx2g7pru5flbv3dc?ctx_brand=tvs.sbd.7000\n",
      "        https://tv.apple.com/ca/sporting-event/charlotte-fc-vs-fc-cincinnati/umc.cse.14n27v16n1gn185zbkosgg0k6?ctx_brand=tvs.sbd.7000\n",
      "        https://tv.apple.com/ca/sporting-event/houston-dynamo-fc-vs-sporting-kansas-city/umc.cse.5h3bfmy66snmh6g4rq9jbdf40?ctx_brand=tvs.sbd.7000\n",
      "        https://tv.apple.com/ca/sporting-event/real-salt-lake-vs-orlando-city/umc.cse.tzaaypwzydld6vcd8v6slf6b?ctx_brand=tvs.sbd.7000\n",
      "        https://www.apple.com/ca\n",
      "        https://www.apple.com/ca/legal/internet-services/\n",
      "        https://www.apple.com/ca/legal/privacy/en-ww/cookies/\n",
      "        https://support.apple.com/en-ca/tv\n",
      "    https://tv.apple.com/ca/show/hijack/umc.cmc.1dg08zn0g3zx52hs8npoj5qe3?ctx_brand=tvs.sbd.4000\n",
      "        https://tv.apple.com/search?ctx_brand=tvs.sbd.4000\n",
      "        https://tv.apple.com/ca/show/slow-horses/umc.cmc.2szz3fdt71tl1ulnbp8utgq5o?ctx_brand=tvs.sbd.4000\n",
      "        https://tv.apple.com/ca/show/ted-lasso/umc.cmc.vtoh0mn0xn7t3c643xqonfzy?ctx_brand=tvs.sbd.4000\n",
      "        https://tv.apple.com/ca/show/silo/umc.cmc.3yksgc857px0k0rqe5zd4jice?ctx_brand=tvs.sbd.4000\n",
      "        https://tv.apple.com/ca/show/platonic/umc.cmc.y7bc18x7co813l8i2tlsyb4l?ctx_brand=tvs.sbd.4000\n"
     ]
    },
    {
     "name": "stdout",
     "output_type": "stream",
     "text": [
      "        https://tv.apple.com/ca/show/the-crowded-room/umc.cmc.495pmjg441gg3j70j3x2yufx9?ctx_brand=tvs.sbd.4000\n",
      "        https://tv.apple.com/ca/show/shrinking/umc.cmc.apzybj6eqf6pzccd97kev7bs?ctx_brand=tvs.sbd.4000\n",
      "        https://tv.apple.com/ca/person/idris-elba/umc.cpc.4rzc7za246zinl5h90ju50ad5\n",
      "        https://tv.apple.com/ca/person/neil-maskell/umc.cpc.6czejpqk8lqy6bmd3cwlk7otu\n",
      "        https://tv.apple.com/ca/person/eve-myles/umc.cpc.2ysezxhfynzae3c66cdihbcwe\n",
      "        https://tv.apple.com/ca/person/christine-adams/umc.cpc.717yb2ssftjs8pepe7b7jwzgp\n",
      "        https://tv.apple.com/ca/person/max-beesley/umc.cpc.3ez210h8blbceeyi7tbemteyo\n",
      "    https://tv.apple.com/ca/show/swagger/umc.cmc.63e208601mwndrxpmguc5stbo?ctx_brand=tvs.sbd.4000\n",
      "        https://tv.apple.com/ca/person/oshea-jackson-jr/umc.cpc.18yyh1nuq4slkg9cpbk1osw7e\n",
      "        https://tv.apple.com/ca/person/isaiah-hill/umc.cpc.48snwj6jhrsgasdt1oqltrlvi\n",
      "        https://tv.apple.com/ca/person/shinelle-azoroh/umc.cpc.2ybe5kaad3woouj6873ppnliz\n",
      "        https://tv.apple.com/ca/person/quvenzhane-wallis/umc.cpc.6q5mkl00iyznlraytwwpn6i7v\n",
      "        https://tv.apple.com/ca/person/tessa-ferrer/umc.cpc.4qsbzefgba96omfzcaz7o97vx\n",
      "    https://tv.apple.com/ca/show/the-last-thing-he-told-me/umc.cmc.5dkcy23fuhcdhw1zcmqn10rc5?ctx_brand=tvs.sbd.4000\n",
      "        https://tv.apple.com/ca/show/the-morning-show/umc.cmc.25tn3v8ku4b39tr6ccgb8nl6m?ctx_brand=tvs.sbd.4000\n",
      "        https://tv.apple.com/ca/person/jennifer-garner/umc.cpc.2fm1ffdpwh9csdqo8vgrl6t1c\n",
      "        https://tv.apple.com/ca/person/nikolaj-coster-waldau/umc.cpc.53kfbihm6qzd1pkiky9udlby\n",
      "        https://tv.apple.com/ca/person/angourie-rice/umc.cpc.2m1yf6y93s9ejgiqeecmukbcq\n",
      "        https://tv.apple.com/ca/person/aisha-tyler/umc.cpc.6dg1rjiyitpj6hpstwptwib1b\n",
      "        https://tv.apple.com/ca/person/augusto-aguilera/umc.cpc.v6d8b9ksa6xqdbj076bbmdao\n",
      "    https://tv.apple.com/ca/show/high-desert/umc.cmc.1c4fnxk415p7l3eumcqholxn8?ctx_brand=tvs.sbd.4000\n",
      "        https://tv.apple.com/ca/person/patricia-arquette/umc.cpc.6g67lgdywvehnmsja4ffph3x3\n",
      "        https://tv.apple.com/ca/person/brad-garrett/umc.cpc.5syippu86wcz43j5sjz9iw08k\n",
      "        https://tv.apple.com/ca/person/weruche-opia/umc.cpc.22p2mlfi14zyuxzp360xxj76l\n",
      "        https://tv.apple.com/ca/person/bernadette-peters/umc.cpc.qwzo4g99mu1u4a2m96hdxq10\n",
      "        https://tv.apple.com/ca/person/rupert-friend/umc.cpc.65vfahxkm68350lo0mlhikrob\n",
      "    https://tv.apple.com/ca/show/ted-lasso/umc.cmc.vtoh0mn0xn7t3c643xqonfzy\n",
      "        https://tv.apple.com/ca/show/platonic/umc.cmc.y7bc18x7co813l8i2tlsyb4l\n",
      "        https://tv.apple.com/ca/person/jason-sudeikis/umc.cpc.25ep598vpnran7vjban1uob48\n",
      "        https://tv.apple.com/ca/person/hannah-waddingham/umc.cpc.6hldkkf05d1a9zcy1m8lhm373\n",
      "        https://tv.apple.com/ca/person/juno-temple/umc.cpc.4i1p5gdc0q2f24h9xxob732y5\n",
      "        https://tv.apple.com/ca/person/jeremy-swift/umc.cpc.3y2twa9f267exvkh71hfrsgca\n",
      "        https://tv.apple.com/ca/person/phil-dunster/umc.cpc.aroon34cvhs0tah51ylxgw19\n",
      "    https://tv.apple.com/ca/show/silo/umc.cmc.3yksgc857px0k0rqe5zd4jice\n",
      "        https://tv.apple.com/ca/show/foundation/umc.cmc.5983fipzqbicvrve6jdfep4x3\n",
      "        https://tv.apple.com/ca/person/rebecca-ferguson/umc.cpc.6kcfg7kmyoyyqtdyxnqxd9847\n",
      "        https://tv.apple.com/ca/person/tim-robbins/umc.cpc.6i1zzeifqkcwsnowo321gx5mv\n",
      "        https://tv.apple.com/ca/person/common/umc.cpc.5phnp342iavccez3hu3kdcosc\n",
      "        https://tv.apple.com/ca/person/harriet-walter/umc.cpc.1dxyide49ux0i7jitz4q242pl\n",
      "        https://tv.apple.com/ca/person/avi-nash/umc.cpc.37kukayhx33sged5aelwtwbhx\n",
      "    https://tv.apple.com/ca/show/hijack/umc.cmc.1dg08zn0g3zx52hs8npoj5qe3\n",
      "        https://tv.apple.com/ca/show/slow-horses/umc.cmc.2szz3fdt71tl1ulnbp8utgq5o\n",
      "    https://tv.apple.com/ca/show/the-crowded-room/umc.cmc.495pmjg441gg3j70j3x2yufx9\n",
      "        https://tv.apple.com/ca/show/black-bird/umc.cmc.30gx1y8nwthydkrvhqu156p3\n",
      "        https://tv.apple.com/ca/person/tom-holland/umc.cpc.li66m3exsanfb1x2t1yh7uaf\n",
      "        https://tv.apple.com/ca/person/amanda-seyfried/umc.cpc.4f0yogo5wnymt92tbmc7q0t38\n",
      "        https://tv.apple.com/ca/person/emmy-rossum/umc.cpc.tk9swolvsuckcpjx8vv17g4d\n",
      "        https://tv.apple.com/ca/person/sasha-lane/umc.cpc.3e8knqedcf1toqf828hhgqjkk\n",
      "        https://tv.apple.com/ca/person/will-chase/umc.cpc.58thcqwzr8lv2kxjt7rkkez74\n",
      "    https://tv.apple.com/ca/movie/ghosted/umc.cmc.6nodv9rf3ltfk2ar3pfc8hced\n",
      "        https://tv.apple.com/ca/person/chris-evans/umc.cpc.4bevhm5jk0105oap7fzoxyayh\n",
      "        https://tv.apple.com/ca/person/ana-de-armas/umc.cpc.6kwzquascxy5spjo4qp8cxs03\n",
      "        https://tv.apple.com/ca/person/adrien-brody/umc.cpc.25hfsmmeao0qhbegd2zgwtf3k\n",
      "        https://tv.apple.com/ca/person/mike-moh/umc.cpc.4832jl8fpji27bz8exq27b5wa\n",
      "        https://tv.apple.com/ca/person/amy-sedaris/umc.cpc.2efmzclknlyf9u2jvt4guaegh\n",
      "    https://tv.apple.com/ca/movie/still-a-michael-j-fox-movie/umc.cmc.njewt06q05vqbgp6w42pqb0l\n",
      "        https://tv.apple.com/ca/person/michael-j-fox/umc.cpc.4il66jjfmay8j6xoi9v9v9p9b\n",
      "        https://tv.apple.com/ca/person/davis-guggenheim/umc.cpc.1a52o2rj9psh1gspjggjz3fcl\n",
      "        https://tv.apple.com/ca/person/annetta-marion/umc.cpc.4qeoqs6ixyg66w71ai2955lwp\n",
      "        https://tv.apple.com/ca/person/jonathan-king/umc.cpc.7hgdvgmrydln1t6qhqkrgohyv\n",
      "        https://tv.apple.com/ca/person/will-cohen/umc.cpc.6dxq1t6t6qysh2euzoocmwtfh\n",
      "    https://tv.apple.com/ca/movie/tetris/umc.cmc.4evmgcam356pzgxs2l7a18d7b\n",
      "        https://tv.apple.com/ca/person/taron-egerton/umc.cpc.44k08l96weqfbfuomnk8dc8nc\n",
      "        https://tv.apple.com/ca/person/nikita-efremov/umc.cpc.2tfck3ll65ibgua3ptn6p8d8w\n",
      "        https://tv.apple.com/ca/person/toby-jones/umc.cpc.78hto7ggcar78khrqrrbe1p0k\n",
      "        https://tv.apple.com/ca/person/sofia-lebedeva/umc.cpc.2wck1dyi7uqyyhombtsjh4ny5\n",
      "        https://tv.apple.com/ca/person/anthony-boyle/umc.cpc.2rl8s028w621x66s2yr32oe86\n",
      "    https://tv.apple.com/ca/movie/luck/umc.cmc.5w6fq1u39v7ozsdv3jkx0nrfs\n",
      "        https://tv.apple.com/ca/room/edt.item.6126cd40-38d1-4e11-8211-3f41619392df\n",
      "        https://tv.apple.com/ca/show/the-snoopy-show/umc.cmc.5iswprrvjjw6ab020a17x4ca3?ctx_brand=tvs.sbd.4000\n",
      "        https://tv.apple.com/ca/show/stillwater/umc.cmc.3czcagetjq31vvbgkkyp1xiao?ctx_brand=tvs.sbd.4000\n",
      "        https://tv.apple.com/ca/show/lovely-little-farm/umc.cmc.iajaormpogjbe142ssfirdys?ctx_brand=tvs.sbd.4000\n",
      "        https://tv.apple.com/ca/show/snoopy-in-space-the-search-for-life/umc.cmc.12l86ri6vfjlimw2m8b8dzszs?ctx_brand=tvs.sbd.4000\n",
      "        https://tv.apple.com/ca/show/pretzel-and-the-puppies/umc.cmc.kpgzlz0lejug1vhtakgizdlh?ctx_brand=tvs.sbd.4000\n",
      "        https://tv.apple.com/ca/person/eva-noblezada/umc.cpc.71t7v3630hqg4a9wb5ir9fqqa\n",
      "        https://tv.apple.com/ca/person/simon-pegg/umc.cpc.6io2s161ztiptuvmku0qvw6yz\n",
      "        https://tv.apple.com/ca/person/jane-fonda/umc.cpc.jiu5byg5sqgnnz8gffje8u07\n",
      "        https://tv.apple.com/ca/person/whoopi-goldberg/umc.cpc.79dczhyh43al0zisjujx5lkzv\n",
      "        https://tv.apple.com/ca/person/colin-odonoghue/umc.cpc.jdepbnq2ekbetlhuea2r2mex\n",
      "    https://tv.apple.com/ca/movie/greyhound/umc.cmc.o5z5ztufuu3uv8lx7m0jcega\n",
      "        https://tv.apple.com/ca/person/tom-hanks/umc.cpc.1aj85ouxcuptpsm73snts9gj2\n",
      "        https://tv.apple.com/ca/person/stephen-graham/umc.cpc.22012on2g25pcsjpg3f4dlq7w\n",
      "        https://tv.apple.com/ca/person/elisabeth-shue/umc.cpc.43n8kd430n9391i1k7frobeb9\n",
      "        https://tv.apple.com/ca/person/rob-morgan/umc.cpc.451yhijy0f82o70n1kw7w4mk7\n",
      "        https://tv.apple.com/ca/person/josh-wiggins/umc.cpc.4n270mq90tg7z3a4k38xfva3z\n",
      "    https://tv.apple.com/ca/room/coming-to-apple-tv/edt.item.62e4314e-8707-4e17-9b77-cdb29787ba94?ctx_brand=tvs.sbd.4000\n",
      "        https://tv.apple.com/ca/show/invasion/umc.cmc.70b7z97fv7azfzn5baqnj88p6?ctx_brand=tvs.sbd.4000\n",
      "        https://tv.apple.com/ca/movie/the-beanie-bubble/umc.cmc.4byzgw44377yxyjsl85rhn8vq?ctx_brand=tvs.sbd.4000\n",
      "        https://tv.apple.com/ca/show/the-afterparty/umc.cmc.5wg8cnigwrkfzbdruaufzb6b0?ctx_brand=tvs.sbd.4000\n",
      "        https://tv.apple.com/ca/show/foundation/umc.cmc.5983fipzqbicvrve6jdfep4x3?ctx_brand=tvs.sbd.4000\n",
      "        https://tv.apple.com/ca/movie/killers-of-the-flower-moon/umc.cmc.5x1fg9vferlfeutzpq6rra1zf?ctx_brand=tvs.sbd.4000\n",
      "        https://tv.apple.com/ca/show/lessons-in-chemistry/umc.cmc.40yycssgxelw4zur8m2ilmvyx?ctx_brand=tvs.sbd.4000\n"
     ]
    },
    {
     "name": "stdout",
     "output_type": "stream",
     "text": [
      "        https://tv.apple.com/ca/movie/stephen-curry-underrated/umc.cmc.23v0wxaiwz60bjy1w4vg7npun?ctx_brand=tvs.sbd.4000\n",
      "        https://tv.apple.com/ca/show/physical/umc.cmc.6gdc6v4vwyaab7klocftv2s10?ctx_brand=tvs.sbd.4000\n",
      "        https://tv.apple.com/ca/show/duck--goose/umc.cmc.qayvbuimq7lxab6y2cs9tbcj?ctx_brand=tvs.sbd.4000\n",
      "    https://tv.apple.com/ca/show/shantaram/umc.cmc.atxsrive40xli3zh3uxjimut?ctx_brand=tvs.sbd.4000\n",
      "        https://tv.apple.com/ca/person/charlie-hunnam/umc.cpc.2sskm5u3uqt51b7brdseokms3\n",
      "        https://tv.apple.com/ca/person/antonia-desplat/umc.cpc.577top3v4lyoweskoaxvtwcpc\n",
      "        https://tv.apple.com/ca/person/shubham-saraf/umc.cpc.3vd33b4zsgk2z6gkhd1ieli9n\n",
      "        https://tv.apple.com/ca/person/fayssal-bazzi/umc.cpc.4oe2h6dax20l7swvb70i0iapo\n",
      "        https://tv.apple.com/ca/person/sujaya-dasgupta/umc.cpc.1c1jtoycjqwo0qp966w3qnx7l\n",
      "    https://tv.apple.com/ca/show/shining-girls/umc.cmc.22xs4xobsimzy5qqdif0rhmdy?ctx_brand=tvs.sbd.4000\n",
      "        https://tv.apple.com/ca/person/elisabeth-moss/umc.cpc.54he3idjex3tmbvv15g4zpz3r\n",
      "        https://tv.apple.com/ca/person/wagner-moura/umc.cpc.6k844t46ymtfb6asx1nwb1wo5\n",
      "        https://tv.apple.com/ca/person/phillipa-soo/umc.cpc.4h9lpurqv21a3rumb6rvpipdt\n",
      "        https://tv.apple.com/ca/person/chris-chalk/umc.cpc.6ge7mux1iujducirmx8nazwpz\n",
      "        https://tv.apple.com/ca/person/amy-brenneman/umc.cpc.589pgmw1kr4vbc79qbyjz3pgh\n"
     ]
    }
   ],
   "source": [
    "web_directory('https://tv.apple.com/ca/', 2)  # Call the 'web_directory' function with a starting URL and depth"
   ]
  },
  {
   "cell_type": "code",
   "execution_count": 48,
   "id": "e182f5b1",
   "metadata": {
    "scrolled": false
   },
   "outputs": [
    {
     "name": "stdout",
     "output_type": "stream",
     "text": [
      "https://tv.Xapple.com/ca/\n",
      "Error in accessing The Input URL: https://tv.Xapple.com/ca/\n",
      "Error Code: <urlopen error [SSL: TLSV1_ALERT_INTERNAL_ERROR] tlsv1 alert internal error (_ssl.c:997)>\n"
     ]
    }
   ],
   "source": [
    "web_directory('https://tv.Xapple.com/ca/', 2)  # Call the 'web_directory' function with a starting URL and depth"
   ]
  },
  {
   "cell_type": "markdown",
   "id": "87490695",
   "metadata": {},
   "source": [
    "# Question 8\n",
    "# Write SQL queries on the below database table that return:\n",
    "a) All the temperature data.\n",
    "b) All the cities, but without repetition.\n",
    "c) All the records for India.\n",
    "d) All the Fall records.\n",
    "e) The city, country, and season for which the average rainfall is between 200 \n",
    "and 400 millimeters.\n",
    "f) The city and country for which the average Fall temperature is above 20 \n",
    "degrees, in increasing temperature order.\n",
    "g) The total annual rainfall for Cairo.\n",
    "h) The total rainfall for each season.\n"
   ]
  },
  {
   "cell_type": "code",
   "execution_count": 3,
   "id": "435709cc",
   "metadata": {},
   "outputs": [
    {
     "name": "stdout",
     "output_type": "stream",
     "text": [
      "\n",
      "Temperature Data: [(24.8,), (28.4,), (27.9,), (27.6,), (4.2,), (8.3,), (15.7,), (10.4,), (13.6,), (20.7,), (27.7,), (22.2,)]\n",
      "\n",
      "Cities: [('Mumbai',), ('London',), ('Cairo',)]\n",
      "\n",
      "India Records: [('Mumbai', 'India', 'Winter', 24.8, 5.9), ('Mumbai', 'India', 'Spring', 28.4, 16.2), ('Mumbai', 'India', 'Summer', 27.9, 1549.4), ('Mumbai', 'India', 'Fall', 27.6, 346.0)]\n",
      "\n",
      "Fall Records: [('Mumbai', 'India', 'Fall', 27.6, 346.0), ('London', 'United Kingdom', 'Fall', 10.4, 218.5), ('Cairo', 'Egypt', 'Fall', 22.2, 4.5)]\n",
      "\n",
      "Average Rainfall Records: [('Mumbai', 'India', 'Fall'), ('London', 'United Kingdom', 'Winter'), ('London', 'United Kingdom', 'Fall')]\n",
      "\n",
      "Cities Above 20 Degrees: [('Cairo', 'Egypt'), ('Mumbai', 'India')]\n",
      "\n",
      "Cairo Total Rainfall: (27.6,)\n",
      "\n",
      "Seasonal Rainfall: [('Fall', 569.0), ('Spring', 192.29999999999998), ('Summer', 1706.5), ('Winter', 230.1)]\n"
     ]
    }
   ],
   "source": [
    "import sqlite3\n",
    "\n",
    "# Establish a connection to an in-memory SQLite database\n",
    "db_connection = sqlite3.connect(':memory:')\n",
    "db_cursor = db_connection.cursor()\n",
    "\n",
    "# Create a table named 'weather_data' in the database\n",
    "db_cursor.execute('''CREATE TABLE weather_data (\n",
    "                    city_name TEXT,\n",
    "                    country_name TEXT,\n",
    "                    season_name TEXT,\n",
    "                    temperature_value REAL,\n",
    "                    rainfall_value REAL\n",
    "                );''')\n",
    "\n",
    "# Insert the weather data entries into the table\n",
    "data_entries = [\n",
    "    ('Mumbai', 'India', 'Winter', 24.8, 5.9),\n",
    "    ('Mumbai', 'India', 'Spring', 28.4, 16.2),\n",
    "    ('Mumbai', 'India', 'Summer', 27.9, 1549.4),\n",
    "    ('Mumbai', 'India', 'Fall', 27.6, 346.0),\n",
    "    ('London', 'United Kingdom', 'Winter', 4.2, 207.7),\n",
    "    ('London', 'United Kingdom', 'Spring', 8.3, 169.6),\n",
    "    ('London', 'United Kingdom', 'Summer', 15.7, 157.0),\n",
    "    ('London', 'United Kingdom', 'Fall', 10.4, 218.5),\n",
    "    ('Cairo', 'Egypt', 'Winter', 13.6, 16.5),\n",
    "    ('Cairo', 'Egypt', 'Spring', 20.7, 6.5),\n",
    "    ('Cairo', 'Egypt', 'Summer', 27.7, 0.1),\n",
    "    ('Cairo', 'Egypt', 'Fall', 22.2, 4.5)\n",
    "]\n",
    "\n",
    "db_cursor.executemany('INSERT INTO weather_data VALUES (?,?,?,?,?);', data_entries)\n",
    "\n",
    "# Execute various queries on the database\n",
    "db_cursor.execute(\"SELECT temperature_value FROM weather_data;\")\n",
    "temperature_data = db_cursor.fetchall()\n",
    "\n",
    "db_cursor.execute(\"SELECT DISTINCT city_name FROM weather_data;\")\n",
    "cities = db_cursor.fetchall()\n",
    "\n",
    "db_cursor.execute(\"SELECT * FROM weather_data WHERE country_name = 'India';\")\n",
    "india_records = db_cursor.fetchall()\n",
    "\n",
    "db_cursor.execute(\"SELECT * FROM weather_data WHERE season_name = 'Fall';\")\n",
    "fall_records = db_cursor.fetchall()\n",
    "\n",
    "db_cursor.execute(\"SELECT city_name, country_name, season_name FROM weather_data WHERE rainfall_value BETWEEN 200 AND 400;\")\n",
    "avg_rainfall_records = db_cursor.fetchall()\n",
    "\n",
    "db_cursor.execute(\"SELECT city_name, country_name FROM weather_data WHERE season_name = 'Fall' AND temperature_value > 20 ORDER BY temperature_value ASC;\")\n",
    "above_20_degrees = db_cursor.fetchall()\n",
    "\n",
    "db_cursor.execute(\"SELECT SUM(rainfall_value) AS total_rainfall FROM weather_data WHERE city_name = 'Cairo';\")\n",
    "cairo_total_rainfall = db_cursor.fetchone()\n",
    "\n",
    "db_cursor.execute(\"SELECT season_name, SUM(rainfall_value) AS total_rainfall FROM weather_data GROUP BY season_name;\")\n",
    "seasonal_rainfall = db_cursor.fetchall()\n",
    "\n",
    "# Close the database connection\n",
    "db_connection.close()\n",
    "\n",
    "# Print the results of the queries\n",
    "print(f\"\\nTemperature Data: {temperature_data}\")\n",
    "print(f\"\\nCities: {cities}\")\n",
    "print(f\"\\nIndia Records: {india_records}\")\n",
    "print(f\"\\nFall Records: {fall_records}\")\n",
    "print(f\"\\nAverage Rainfall Records: {avg_rainfall_records}\")\n",
    "print(f\"\\nCities Above 20 Degrees: {above_20_degrees}\")\n",
    "print(f\"\\nCairo Total Rainfall: {cairo_total_rainfall}\")\n",
    "print(f\"\\nSeasonal Rainfall: {seasonal_rainfall}\")\n"
   ]
  },
  {
   "cell_type": "markdown",
   "id": "91f55211",
   "metadata": {},
   "source": [
    "# Question 9\n",
    ". Suppose list words is defined as follows:\n",
    ">>> words = ['The', 'quick', 'brown', 'fox', 'jumps', 'over', \n",
    "'the', 'lazy', 'dog']\n",
    "Write list comprehension expressions that use list words and generate the following \n",
    "lists:\n",
    "a) ['THE', 'QUICK', 'BROWN', 'FOX', 'JUMPS', 'OVER', 'THE', \n",
    "'LAZY', 'DOG']\n",
    "b) ['the', 'quick', 'brown', 'fox', 'jumps', 'over', 'the', \n",
    "'lazy', 'dog']\n",
    "c) [3, 5, 5, 3, 5, 4, 3, 4, 3] (the list of lengths of words in list\n",
    "words).\n",
    "d) [['THE', 'the', 3], ['QUICK', 'quick', 5], ['BROWN',\n",
    "'brown', 5], ['FOX', 'fox', 3], ['JUMPS', 'jumps', 5],\n",
    "['OVER', 'over', 4], ['THE', 'the', 3], ['LAZY', 'lazy',\n",
    "4], ['DOG', 'dog', 3]] (the list containing a list for every word of list \n",
    "words, where each list contains the word in uppercase and lowercase and the \n",
    "length of the word.)\n",
    "e) ['The', 'quick', 'brown', 'fox', 'jumps', 'over', 'the', \n",
    "'lazy', 'dog'] (the list of words in list words containing 4 or more \n",
    "characters."
   ]
  },
  {
   "cell_type": "code",
   "execution_count": 44,
   "id": "2deb6508",
   "metadata": {},
   "outputs": [
    {
     "name": "stdout",
     "output_type": "stream",
     "text": [
      "\n",
      "Upper case versions of each word\n",
      "THE QUICK BROWN FOX JUMPS OVER THE LAZY DOG\n",
      "\n",
      "Lower case versions of each word\n",
      "the quick brown fox jumps over the lazy dog\n",
      "\n",
      "Lengths of each word\n",
      "3 5 5 3 5 4 3 4 3\n",
      "\n",
      "Sub-lists for each word, with uppercase, lowercase, and length\n",
      "['THE', 'the', 3]\n",
      "['QUICK', 'quick', 5]\n",
      "['BROWN', 'brown', 5]\n",
      "['FOX', 'fox', 3]\n",
      "['JUMPS', 'jumps', 5]\n",
      "['OVER', 'over', 4]\n",
      "['THE', 'the', 3]\n",
      "['LAZY', 'lazy', 4]\n",
      "['DOG', 'dog', 3]\n",
      "\n",
      "New list is containing words with a length of 4 or more characters\n",
      "quick brown jumps over lazy\n"
     ]
    }
   ],
   "source": [
    "# Define the list of words\n",
    "words = ['The', 'quick', 'brown', 'fox', 'jumps', 'over', 'the', 'lazy', 'dog']\n",
    "\n",
    "# Create a new list containing uppercase versions of each word\n",
    "\n",
    "uppercase_list = [word.upper() for word in words]\n",
    "print(\"\\nUpper case versions of each word\")\n",
    "print(*uppercase_list, sep=' ')\n",
    "\n",
    "# Create a new list containing lowercase versions of each word\n",
    "\n",
    "print(\"\\nLower case versions of each word\")\n",
    "lowercase_list = [word.lower() for word in words]\n",
    "print(*lowercase_list, sep=' ')\n",
    "\n",
    "# Create a new list containing the lengths of each word\n",
    "print(\"\\nLengths of each word\")\n",
    "word_lengths = [len(word) for word in words]\n",
    "print(*word_lengths, sep=' ')\n",
    "\n",
    "# Create a new list containing sub-lists for each word, with uppercase, lowercase, and length\n",
    "word_info = [[word.upper(), word.lower(), len(word)] for word in words]\n",
    "print(\"\\nSub-lists for each word, with uppercase, lowercase, and length\")\n",
    "print(*word_info, sep='\\n')\n",
    "\n",
    "# Create a new list containing words with a length of 4 or more characters\n",
    "long_words = [word for word in words if len(word) >= 4]\n",
    "print(\"\\nNew list is containing words with a length of 4 or more characters\")\n",
    "print(*long_words, sep=' ')\n"
   ]
  }
 ],
 "metadata": {
  "kernelspec": {
   "display_name": "Python 3 (ipykernel)",
   "language": "python",
   "name": "python3"
  },
  "language_info": {
   "codemirror_mode": {
    "name": "ipython",
    "version": 3
   },
   "file_extension": ".py",
   "mimetype": "text/x-python",
   "name": "python",
   "nbconvert_exporter": "python",
   "pygments_lexer": "ipython3",
   "version": "3.10.9"
  }
 },
 "nbformat": 4,
 "nbformat_minor": 5
}
